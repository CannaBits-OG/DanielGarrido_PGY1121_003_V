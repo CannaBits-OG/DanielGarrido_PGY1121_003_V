{
  "nbformat": 4,
  "nbformat_minor": 0,
  "metadata": {
    "colab": {
      "provenance": []
    },
    "kernelspec": {
      "name": "python3",
      "display_name": "Python 3"
    },
    "language_info": {
      "name": "python"
    }
  },
  "cells": [
    {
      "cell_type": "code",
      "execution_count": 270,
      "metadata": {
        "id": "njTmnDwUNi3G"
      },
      "outputs": [],
      "source": [
        "# importar librerias y variables\n",
        "import numpy as np\n",
        "import datetime\n",
        "ubicaciones = np.zeros(100)\n",
        "precios = [120000, 80000, 50000]\n",
        "asistentes = {}"
      ]
    },
    {
      "cell_type": "code",
      "source": [
        "# opcion 1\n",
        "def comprar_entradas():\n",
        "  try:\n",
        "    cantidad = int(input('Ingrese la cantidad de entradas a comprar (1-3): '))\n",
        "    while cantidad < 1 or cantidad > 3:\n",
        "        print('Cantidad inválida. Intente nuevamente.')\n",
        "        cantidad = int(input('Ingrese la cantidad de entradas a comprar (1-3): '))\n",
        "\n",
        "    mostrar_ubicaciones()\n",
        "\n",
        "    for _ in range(cantidad):\n",
        "        ubicacion = int(input('Ingrese la ubicación deseada: '))\n",
        "        while ubicacion < 1 or ubicacion > 100 or ubicaciones[ubicacion - 1] != 0:\n",
        "            if ubicacion < 1 or ubicacion > 100:\n",
        "                print('Ubicación inválida. Intente nuevamente. \\n')\n",
        "            else:\n",
        "                print('Ubicación no disponible. Intente nuevamente. \\n')\n",
        "            ubicacion = int(input('Ingrese la ubicación deseada: \\n'))\n",
        "\n",
        "        ubicaciones[ubicacion - 1] = 1\n",
        "\n",
        "        run = input('Ingrese el RUN, sin puntos ni guion ni digito verificador (8 dígitos): ')\n",
        "        while len(run) != 8:\n",
        "            print('RUN inválido. Debe tener 8 dígitos.\\n')\n",
        "            run = input('Ingrese el RUN del asistente (8 dígitos): ')\n",
        "\n",
        "        asistentes[ubicacion] = run\n",
        "\n",
        "    print('Felicidades !! has comprado tu entrada correctamente. \\n')\n",
        "  except ValueError:\n",
        "    print('Error, ingrese solo numeros del 1 al 3. \\n')"
      ],
      "metadata": {
        "id": "JnlLzxiCOFpN"
      },
      "execution_count": 271,
      "outputs": []
    },
    {
      "cell_type": "code",
      "source": [
        "# opcion 2\n",
        "def mostrar_ubicaciones():\n",
        "    print('\\nEstas son las ubicaciones:\\n')\n",
        "    print('-------------------------')\n",
        "    print('        Escenario        ')\n",
        "    print('-------------------------\\n')\n",
        "    for i in range(10):\n",
        "        for j in range(10):\n",
        "            index = i * 10 + j\n",
        "            if ubicaciones[index] == 0:\n",
        "                estado = str(index + 1)\n",
        "            else:\n",
        "                estado = \"X\"\n",
        "            print(f\"{estado} \", end=\"\")\n",
        "        print()\n",
        "    print('~'*40)\n",
        "    print('Los precios y tipos de entradas son los siguientes:\\n')\n",
        "    print('Platinum, $120.000. (Asientos del 1 al 20)')\n",
        "    print('Gold, $80.000. (Asientos del 21 al 50)')\n",
        "    print('Silver, $50.000. (Asientos del 51 al 100)')\n",
        "    print('~'*40)"
      ],
      "metadata": {
        "id": "cv54SLCtOFrs"
      },
      "execution_count": 272,
      "outputs": []
    },
    {
      "cell_type": "code",
      "source": [
        "# opcion 3\n",
        "def ver_listado_asistentes():\n",
        "  print('Listado de asistentes: ')\n",
        "  for ubicacion, run in sorted (asistentes):\n",
        "    print(f'{run}: Ubicacion {ubicacion}')\n",
        "\n",
        "# no supe arreglarla :("
      ],
      "metadata": {
        "id": "3wmIUZXXOFuS"
      },
      "execution_count": 273,
      "outputs": []
    },
    {
      "cell_type": "code",
      "source": [
        "# opcion 4\n",
        "def mostrar_ganancias_totales():\n",
        "    vendidas = np.nonzero(ubicaciones)[0]\n",
        "    total = sum(precios[0] if i < 20 else precios[1] if i < 50 else precios[2] for i in vendidas)\n",
        "    print(f'Ganancias totales: ${total} \\n')"
      ],
      "metadata": {
        "id": "NSBAxV9iOFwZ"
      },
      "execution_count": 274,
      "outputs": []
    },
    {
      "cell_type": "code",
      "source": [
        "# opcion 5\n",
        "def salir():\n",
        "  hoy = datetime.date.today()\n",
        "  print('*'*40)\n",
        "  print('Gracias por comprar en Creativos \\nAdios!')\n",
        "  print('*'*40)\n",
        "  print('Creado por >> Daniel Garrido <<')\n",
        "  print(hoy)"
      ],
      "metadata": {
        "id": "By1r-s_WOFyZ"
      },
      "execution_count": 275,
      "outputs": []
    },
    {
      "cell_type": "code",
      "source": [
        "# crear menu\n",
        "def menu():\n",
        "  while True:\n",
        "\n",
        "      print('Bienvenido al concierto VIP de Michael Jam ! \\n')\n",
        "      print('=== Menú ===')\n",
        "      print('1. Comprar entradas')\n",
        "      print('2. Mostrar ubicaciones disponibles')\n",
        "      print('3. Ver listado de asistentes')\n",
        "      print('4. Mostrar ganancias totales')\n",
        "      print(\"5. Salir\")\n",
        "\n",
        "      opcion = input('Seleccione una opción: ')\n",
        "\n",
        "      if opcion == '1':\n",
        "        comprar_entradas()\n",
        "      elif opcion == '2':\n",
        "        mostrar_ubicaciones()\n",
        "      elif opcion == '3':\n",
        "        ver_listado_asistentes()\n",
        "      elif opcion == '4':\n",
        "        mostrar_ganancias_totales()\n",
        "      elif opcion == '5':\n",
        "        salir()\n",
        "        break\n",
        "      else:\n",
        "        print('Opción inválida. Intente nuevamente. \\n')"
      ],
      "metadata": {
        "id": "Dt3ZO_xFXowI"
      },
      "execution_count": 276,
      "outputs": []
    },
    {
      "cell_type": "code",
      "source": [
        "# mostrar menu\n",
        "menu()"
      ],
      "metadata": {
        "colab": {
          "base_uri": "https://localhost:8080/"
        },
        "id": "LUOCQXQ0OF6d",
        "outputId": "7ca1cc77-3b14-43a2-8eed-aa670953b13f"
      },
      "execution_count": 277,
      "outputs": [
        {
          "output_type": "stream",
          "name": "stdout",
          "text": [
            "Bienvenido al concierto VIP de Michael Jam ! \n",
            "\n",
            "=== Menú ===\n",
            "1. Comprar entradas\n",
            "2. Mostrar ubicaciones disponibles\n",
            "3. Ver listado de asistentes\n",
            "4. Mostrar ganancias totales\n",
            "5. Salir\n",
            "Seleccione una opción: 1\n",
            "Ingrese la cantidad de entradas a comprar (1-3): 1\n",
            "\n",
            "Estas son las ubicaciones:\n",
            "\n",
            "-------------------------\n",
            "        Escenario        \n",
            "-------------------------\n",
            "\n",
            "1 2 3 4 5 6 7 8 9 10 \n",
            "11 12 13 14 15 16 17 18 19 20 \n",
            "21 22 23 24 25 26 27 28 29 30 \n",
            "31 32 33 34 35 36 37 38 39 40 \n",
            "41 42 43 44 45 46 47 48 49 50 \n",
            "51 52 53 54 55 56 57 58 59 60 \n",
            "61 62 63 64 65 66 67 68 69 70 \n",
            "71 72 73 74 75 76 77 78 79 80 \n",
            "81 82 83 84 85 86 87 88 89 90 \n",
            "91 92 93 94 95 96 97 98 99 100 \n",
            "~~~~~~~~~~~~~~~~~~~~~~~~~~~~~~~~~~~~~~~~\n",
            "Los precios y tipos de entradas son los siguientes:\n",
            "\n",
            "Platinum, $120.000. (Asientos del 1 al 20)\n",
            "Gold, $80.000. (Asientos del 21 al 50)\n",
            "Silver, $50.000. (Asientos del 51 al 100)\n",
            "~~~~~~~~~~~~~~~~~~~~~~~~~~~~~~~~~~~~~~~~\n",
            "Ingrese la ubicación deseada: 1\n",
            "Ingrese el RUN, sin puntos ni guion ni digito verificador (8 dígitos): 12345678\n",
            "Felicidades !! has comprado tu entrada correctamente. \n",
            "\n",
            "Bienvenido al concierto VIP de Michael Jam ! \n",
            "\n",
            "=== Menú ===\n",
            "1. Comprar entradas\n",
            "2. Mostrar ubicaciones disponibles\n",
            "3. Ver listado de asistentes\n",
            "4. Mostrar ganancias totales\n",
            "5. Salir\n",
            "Seleccione una opción: 5\n",
            "****************************************\n",
            "Gracias por comprar en Creativos \n",
            "Adios!\n",
            "****************************************\n",
            "Creado por >> Daniel Garrido <<\n",
            "2023-07-12\n"
          ]
        }
      ]
    }
  ]
}